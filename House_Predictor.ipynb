{
 "cells": [
  {
   "cell_type": "code",
   "execution_count": 1,
   "metadata": {},
   "outputs": [],
   "source": [
    "#hide\n",
    "#from fastbook import *\n",
    "from fastai.vision.widgets import *\n",
    "from fastai.tabular.all import *\n",
    "from ipywidgets import *"
   ]
  },
  {
   "cell_type": "code",
   "execution_count": 2,
   "metadata": {
    "jupyter": {
     "outputs_hidden": true
    },
    "scrolled": true
   },
   "outputs": [
    {
     "name": "stdout",
     "output_type": "stream",
     "text": [
      "Requirement already satisfied: voila in c:\\users\\kirt3n\\appdata\\local\\continuum\\anaconda3\\envs\\fastai\\lib\\site-packages (0.2.3)\n",
      "Requirement already satisfied: jupyter-client<7,>=6.1.3 in c:\\users\\kirt3n\\appdata\\local\\continuum\\anaconda3\\envs\\fastai\\lib\\site-packages (from voila) (6.1.7)\n",
      "Requirement already satisfied: jupyter-server<2.0.0,>=0.3.0 in c:\\users\\kirt3n\\appdata\\local\\continuum\\anaconda3\\envs\\fastai\\lib\\site-packages (from voila) (1.0.4)\n",
      "Requirement already satisfied: nbconvert<7,>=6.0.0 in c:\\users\\kirt3n\\appdata\\local\\continuum\\anaconda3\\envs\\fastai\\lib\\site-packages (from voila) (6.0.7)\n",
      "Requirement already satisfied: nbclient<0.6,>=0.4.0 in c:\\users\\kirt3n\\appdata\\local\\continuum\\anaconda3\\envs\\fastai\\lib\\site-packages (from voila) (0.5.0)\n",
      "Requirement already satisfied: traitlets in c:\\users\\kirt3n\\appdata\\local\\continuum\\anaconda3\\envs\\fastai\\lib\\site-packages (from jupyter-client<7,>=6.1.3->voila) (5.0.4)\n",
      "Requirement already satisfied: python-dateutil>=2.1 in c:\\users\\kirt3n\\appdata\\local\\continuum\\anaconda3\\envs\\fastai\\lib\\site-packages (from jupyter-client<7,>=6.1.3->voila) (2.8.1)\n",
      "Requirement already satisfied: jupyter-core>=4.6.0 in c:\\users\\kirt3n\\appdata\\local\\continuum\\anaconda3\\envs\\fastai\\lib\\site-packages (from jupyter-client<7,>=6.1.3->voila) (4.6.3)\n",
      "Requirement already satisfied: pyzmq>=13 in c:\\users\\kirt3n\\appdata\\local\\continuum\\anaconda3\\envs\\fastai\\lib\\site-packages (from jupyter-client<7,>=6.1.3->voila) (19.0.2)\n",
      "Requirement already satisfied: tornado>=4.1 in c:\\users\\kirt3n\\appdata\\local\\continuum\\anaconda3\\envs\\fastai\\lib\\site-packages (from jupyter-client<7,>=6.1.3->voila) (6.0.4)\n",
      "Requirement already satisfied: nbformat in c:\\users\\kirt3n\\appdata\\local\\continuum\\anaconda3\\envs\\fastai\\lib\\site-packages (from jupyter-server<2.0.0,>=0.3.0->voila) (5.0.7)\n",
      "Requirement already satisfied: Send2Trash in c:\\users\\kirt3n\\appdata\\local\\continuum\\anaconda3\\envs\\fastai\\lib\\site-packages (from jupyter-server<2.0.0,>=0.3.0->voila) (1.5.0)\n",
      "Requirement already satisfied: pywin32>=1.0; sys_platform == \"win32\" in c:\\users\\kirt3n\\appdata\\local\\continuum\\anaconda3\\envs\\fastai\\lib\\site-packages (from jupyter-server<2.0.0,>=0.3.0->voila) (227)\n",
      "Requirement already satisfied: ipython-genutils in c:\\users\\kirt3n\\appdata\\local\\continuum\\anaconda3\\envs\\fastai\\lib\\site-packages (from jupyter-server<2.0.0,>=0.3.0->voila) (0.2.0)\n",
      "Requirement already satisfied: prometheus-client in c:\\users\\kirt3n\\appdata\\local\\continuum\\anaconda3\\envs\\fastai\\lib\\site-packages (from jupyter-server<2.0.0,>=0.3.0->voila) (0.8.0)\n",
      "Requirement already satisfied: jinja2 in c:\\users\\kirt3n\\appdata\\local\\continuum\\anaconda3\\envs\\fastai\\lib\\site-packages (from jupyter-server<2.0.0,>=0.3.0->voila) (2.11.2)\n",
      "Requirement already satisfied: terminado>=0.8.3 in c:\\users\\kirt3n\\appdata\\local\\continuum\\anaconda3\\envs\\fastai\\lib\\site-packages (from jupyter-server<2.0.0,>=0.3.0->voila) (0.9.1)\n",
      "Requirement already satisfied: entrypoints>=0.2.2 in c:\\users\\kirt3n\\appdata\\local\\continuum\\anaconda3\\envs\\fastai\\lib\\site-packages (from nbconvert<7,>=6.0.0->voila) (0.3)\n",
      "Requirement already satisfied: jupyterlab-pygments in c:\\users\\kirt3n\\appdata\\local\\continuum\\anaconda3\\envs\\fastai\\lib\\site-packages (from nbconvert<7,>=6.0.0->voila) (0.1.2)\n",
      "Requirement already satisfied: bleach in c:\\users\\kirt3n\\appdata\\local\\continuum\\anaconda3\\envs\\fastai\\lib\\site-packages (from nbconvert<7,>=6.0.0->voila) (3.2.1)\n",
      "Requirement already satisfied: pygments>=2.4.1 in c:\\users\\kirt3n\\appdata\\local\\continuum\\anaconda3\\envs\\fastai\\lib\\site-packages (from nbconvert<7,>=6.0.0->voila) (2.7.1)\n",
      "Requirement already satisfied: testpath in c:\\users\\kirt3n\\appdata\\local\\continuum\\anaconda3\\envs\\fastai\\lib\\site-packages (from nbconvert<7,>=6.0.0->voila) (0.4.4)\n",
      "Requirement already satisfied: mistune<2,>=0.8.1 in c:\\users\\kirt3n\\appdata\\local\\continuum\\anaconda3\\envs\\fastai\\lib\\site-packages (from nbconvert<7,>=6.0.0->voila) (0.8.4)\n",
      "Requirement already satisfied: defusedxml in c:\\users\\kirt3n\\appdata\\local\\continuum\\anaconda3\\envs\\fastai\\lib\\site-packages (from nbconvert<7,>=6.0.0->voila) (0.6.0)\n",
      "Requirement already satisfied: pandocfilters>=1.4.1 in c:\\users\\kirt3n\\appdata\\local\\continuum\\anaconda3\\envs\\fastai\\lib\\site-packages (from nbconvert<7,>=6.0.0->voila) (1.4.2)\n",
      "Requirement already satisfied: nest-asyncio in c:\\users\\kirt3n\\appdata\\local\\continuum\\anaconda3\\envs\\fastai\\lib\\site-packages (from nbclient<0.6,>=0.4.0->voila) (1.4.1)\n",
      "Requirement already satisfied: async-generator in c:\\users\\kirt3n\\appdata\\local\\continuum\\anaconda3\\envs\\fastai\\lib\\site-packages (from nbclient<0.6,>=0.4.0->voila) (1.10)\n",
      "Requirement already satisfied: six>=1.5 in c:\\users\\kirt3n\\appdata\\local\\continuum\\anaconda3\\envs\\fastai\\lib\\site-packages (from python-dateutil>=2.1->jupyter-client<7,>=6.1.3->voila) (1.15.0)\n",
      "Requirement already satisfied: jsonschema!=2.5.0,>=2.4 in c:\\users\\kirt3n\\appdata\\local\\continuum\\anaconda3\\envs\\fastai\\lib\\site-packages (from nbformat->jupyter-server<2.0.0,>=0.3.0->voila) (3.2.0)\n",
      "Requirement already satisfied: MarkupSafe>=0.23 in c:\\users\\kirt3n\\appdata\\local\\continuum\\anaconda3\\envs\\fastai\\lib\\site-packages (from jinja2->jupyter-server<2.0.0,>=0.3.0->voila) (1.1.1)\n",
      "Requirement already satisfied: pywinpty>=0.5 in c:\\users\\kirt3n\\appdata\\local\\continuum\\anaconda3\\envs\\fastai\\lib\\site-packages (from terminado>=0.8.3->jupyter-server<2.0.0,>=0.3.0->voila) (0.5.7)\n",
      "Requirement already satisfied: packaging in c:\\users\\kirt3n\\appdata\\local\\continuum\\anaconda3\\envs\\fastai\\lib\\site-packages (from bleach->nbconvert<7,>=6.0.0->voila) (20.4)\n",
      "Requirement already satisfied: webencodings in c:\\users\\kirt3n\\appdata\\local\\continuum\\anaconda3\\envs\\fastai\\lib\\site-packages (from bleach->nbconvert<7,>=6.0.0->voila) (0.5.1)\n",
      "Requirement already satisfied: setuptools in c:\\users\\kirt3n\\appdata\\local\\continuum\\anaconda3\\envs\\fastai\\lib\\site-packages (from jsonschema!=2.5.0,>=2.4->nbformat->jupyter-server<2.0.0,>=0.3.0->voila) (49.6.0.post20200814)\n",
      "Requirement already satisfied: pyrsistent>=0.14.0 in c:\\users\\kirt3n\\appdata\\local\\continuum\\anaconda3\\envs\\fastai\\lib\\site-packages (from jsonschema!=2.5.0,>=2.4->nbformat->jupyter-server<2.0.0,>=0.3.0->voila) (0.17.3)\n",
      "Requirement already satisfied: attrs>=17.4.0 in c:\\users\\kirt3n\\appdata\\local\\continuum\\anaconda3\\envs\\fastai\\lib\\site-packages (from jsonschema!=2.5.0,>=2.4->nbformat->jupyter-server<2.0.0,>=0.3.0->voila) (20.2.0)\n",
      "Requirement already satisfied: pyparsing>=2.0.2 in c:\\users\\kirt3n\\appdata\\local\\continuum\\anaconda3\\envs\\fastai\\lib\\site-packages (from packaging->bleach->nbconvert<7,>=6.0.0->voila) (2.4.7)\n"
     ]
    }
   ],
   "source": [
    "#!pip install voila"
   ]
  },
  {
   "cell_type": "code",
   "execution_count": 3,
   "metadata": {},
   "outputs": [
    {
     "name": "stderr",
     "output_type": "stream",
     "text": [
      "Enabling: voila\n",
      "- Writing config: C:\\Users\\kirt3n\\AppData\\Local\\Continuum\\anaconda3\\envs\\fastai\\etc\\jupyter\n",
      "    - Validating...\n",
      "      voila 0.2.3 ok\n"
     ]
    }
   ],
   "source": [
    "!jupyter serverextension enable voila --sys-prefix\n",
    "#!jupyter serverextension enable --sys-prefix voila "
   ]
  },
  {
   "cell_type": "markdown",
   "metadata": {},
   "source": [
    "# The Amazing House Price Predictor!!!"
   ]
  },
  {
   "cell_type": "markdown",
   "metadata": {},
   "source": [
    "Put in some details about a house and get the price predicted"
   ]
  },
  {
   "cell_type": "code",
   "execution_count": 4,
   "metadata": {},
   "outputs": [],
   "source": [
    "#path = Path()\n",
    "learn_inf = load_learner(./'export.pkl')"
   ]
  },
  {
   "cell_type": "code",
   "execution_count": 5,
   "metadata": {},
   "outputs": [],
   "source": [
    "numImages = 10\n",
    "postTownName = 'London'\n",
    "regionName = 'London'\n",
    "zindex = 500000"
   ]
  },
  {
   "cell_type": "code",
   "execution_count": 6,
   "metadata": {},
   "outputs": [
    {
     "data": {
      "application/vnd.jupyter.widget-view+json": {
       "model_id": "3bcc6041bb2044d883c00a39617c1713",
       "version_major": 2,
       "version_minor": 0
      },
      "text/plain": [
       "FloatSlider(value=2.0, continuous_update=False, description='Bathrooms', max=10.0, readout_format='.1f', step=…"
      ]
     },
     "metadata": {},
     "output_type": "display_data"
    }
   ],
   "source": [
    "bath =widgets.FloatSlider(\n",
    "    value=2,\n",
    "    min=0,\n",
    "    max=10.0,\n",
    "    step=0.5,\n",
    "    description='Bathrooms',\n",
    "    disabled=False,\n",
    "    continuous_update=False,\n",
    "    orientation='horizontal',\n",
    "    readout=True,\n",
    "    readout_format='.1f',\n",
    ")\n",
    "display(bath)"
   ]
  },
  {
   "cell_type": "code",
   "execution_count": 7,
   "metadata": {},
   "outputs": [
    {
     "data": {
      "application/vnd.jupyter.widget-view+json": {
       "model_id": "0651cfaeae054b0db8d6463f67d642e2",
       "version_major": 2,
       "version_minor": 0
      },
      "text/plain": [
       "BoundedFloatText(value=2.0, description='Bedrooms:', max=10.0, step=0.5)"
      ]
     },
     "metadata": {},
     "output_type": "display_data"
    }
   ],
   "source": [
    "bed = widgets.BoundedFloatText(\n",
    "    value=2.0,\n",
    "    min=0,\n",
    "    max=10.0,\n",
    "    step=0.5,\n",
    "    description='Bedrooms:',\n",
    "    disabled=False\n",
    ")\n",
    "\n",
    "display(bed)"
   ]
  },
  {
   "cell_type": "code",
   "execution_count": 8,
   "metadata": {},
   "outputs": [
    {
     "data": {
      "application/vnd.jupyter.widget-view+json": {
       "model_id": "2940341cdecf4f018365cf5d29d5ffe1",
       "version_major": 2,
       "version_minor": 0
      },
      "text/plain": [
       "FloatSlider(value=2.0, continuous_update=False, description='Reception Rooms', max=10.0, orientation='vertical…"
      ]
     },
     "metadata": {},
     "output_type": "display_data"
    }
   ],
   "source": [
    "recep = widgets.FloatSlider(\n",
    "    value=2,\n",
    "    min=0,\n",
    "    max=10.0,\n",
    "    step=0.5,\n",
    "    description='Reception Rooms',\n",
    "    disabled=False,\n",
    "    continuous_update=False,\n",
    "    orientation='vertical',\n",
    "    readout=True,\n",
    "    readout_format='.1f',\n",
    ")\n",
    "display(recep)"
   ]
  },
  {
   "cell_type": "code",
   "execution_count": 9,
   "metadata": {},
   "outputs": [
    {
     "data": {
      "application/vnd.jupyter.widget-view+json": {
       "model_id": "d50aec40bc3d4ca18dd72928f5d59824",
       "version_major": 2,
       "version_minor": 0
      },
      "text/plain": [
       "Dropdown(description='PostCode', index=5, options=('SE27', 'SE17', 'SE11', 'SE22', 'SE24', 'SW4', 'SW16', 'SW2…"
      ]
     },
     "metadata": {},
     "output_type": "display_data"
    }
   ],
   "source": [
    "postcode = widgets.Dropdown(\n",
    "    options=['SE27', 'SE17', 'SE11', 'SE22', 'SE24', 'SW4', 'SW16', 'SW2','SE21', 'SW8', 'SE5', 'SW12', 'SW11'],\n",
    "    value='SW4',\n",
    "    description='PostCode',\n",
    "    disabled=False,\n",
    ")\n",
    "display(postcode)"
   ]
  },
  {
   "cell_type": "code",
   "execution_count": 10,
   "metadata": {},
   "outputs": [
    {
     "data": {
      "application/vnd.jupyter.widget-view+json": {
       "model_id": "618952a42c8c4e0db34e0b0cad5e7167",
       "version_major": 2,
       "version_minor": 0
      },
      "text/plain": [
       "Dropdown(description='Property Type', options=('detached', 'flat', 'terraced', 'end_terrace'), value='detached…"
      ]
     },
     "metadata": {},
     "output_type": "display_data"
    }
   ],
   "source": [
    "prop_type = widgets.Dropdown(\n",
    "    options=['detached', 'flat', 'terraced', 'end_terrace'],\n",
    "    value='detached',\n",
    "    description='Property Type',\n",
    "    disabled=False,\n",
    ")\n",
    "display(prop_type)"
   ]
  },
  {
   "cell_type": "code",
   "execution_count": 11,
   "metadata": {},
   "outputs": [
    {
     "data": {
      "application/vnd.jupyter.widget-view+json": {
       "model_id": "ae43c31c1b684d84bdb6e2f3205c7a82",
       "version_major": 2,
       "version_minor": 0
      },
      "text/plain": [
       "Button(description='Predict!', icon='check', style=ButtonStyle())"
      ]
     },
     "metadata": {},
     "output_type": "display_data"
    },
    {
     "data": {
      "application/vnd.jupyter.widget-view+json": {
       "model_id": "6d403d349738425ca220e85c03e6ef1e",
       "version_major": 2,
       "version_minor": 0
      },
      "text/plain": [
       "Output()"
      ]
     },
     "metadata": {},
     "output_type": "display_data"
    }
   ],
   "source": [
    "button = widgets.Button(description=\"Predict!\",\n",
    "                       tooltop='Click me',\n",
    "                       icon='check')\n",
    "output = widgets.Output()\n",
    "\n",
    "display(button, output)\n",
    "\n",
    "def on_button_clicked(b):\n",
    "    postalArea = postcode.value[:2]\n",
    "    inf_df = pd.DataFrame(data={'numBaths': [], 'numBeds': [], 'numImages': [], 'numRecepts': [], 'outcode': [], 'postalArea': [], 'postTownName': [], 'propertyType': [], 'regionName': [], 'zindex': []})\n",
    "\n",
    "    series_obj = pd.Series([bath.value, bed.value, numImages, recep.value, postcode.value, postalArea, postTownName, prop_type.value, regionName, zindex], index=inf_df.columns)\n",
    "    inf_df = inf_df.append(series_obj, ignore_index=True)\n",
    "    \n",
    "    \n",
    "    with output:\n",
    "        #print(inf_df.head())\n",
    "        dl = learn_inf.dls.test_dl(inf_df)\n",
    "        pred_price = learn_inf.get_preds(dl=dl)\n",
    "        print(pred_price)\n",
    "        str_price = str(pred_price)[8:-2]\n",
    "        print(f'That house is worth £{str_price}')\n",
    "        \n",
    "\n",
    "button.on_click(on_button_clicked)"
   ]
  }
 ],
 "metadata": {
  "kernelspec": {
   "display_name": "fastai",
   "language": "python",
   "name": "fastai"
  },
  "language_info": {
   "codemirror_mode": {
    "name": "ipython",
    "version": 3
   },
   "file_extension": ".py",
   "mimetype": "text/x-python",
   "name": "python",
   "nbconvert_exporter": "python",
   "pygments_lexer": "ipython3",
   "version": "3.8.5"
  }
 },
 "nbformat": 4,
 "nbformat_minor": 4
}
